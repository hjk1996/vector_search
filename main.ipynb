{
 "cells": [
  {
   "cell_type": "code",
   "execution_count": 1,
   "metadata": {},
   "outputs": [
    {
     "name": "stderr",
     "output_type": "stream",
     "text": [
      "/Users/khj/opt/anaconda3/envs/ml/lib/python3.9/site-packages/tqdm/auto.py:21: TqdmWarning: IProgress not found. Please update jupyter and ipywidgets. See https://ipywidgets.readthedocs.io/en/stable/user_install.html\n",
      "  from .autonotebook import tqdm as notebook_tqdm\n"
     ]
    }
   ],
   "source": [
    "import json\n",
    "\n",
    "from pprint import pprint\n",
    "import torch\n",
    "import transformers\n",
    "\n",
    "from bible import Bible\n",
    "from embeddings import load_embeddings\n",
    "from models import ModelWrapper"
   ]
  },
  {
   "cell_type": "code",
   "execution_count": 2,
   "metadata": {},
   "outputs": [],
   "source": [
    "bible = Bible(\"data/nrsv_bible.xml\", \"data/chapter_index_map.json\")\n",
    "device = torch.device(\"cpu\")\n",
    "with open(\"data/top_50.json\") as f:\n",
    "    top_50 = json.load(f)"
   ]
  },
  {
   "cell_type": "code",
   "execution_count": 3,
   "metadata": {},
   "outputs": [],
   "source": [
    "gpt2_xl = transformers.GPT2Model.from_pretrained(\"gpt2-xl\").to(\"cpu\")\n",
    "gpt2_xl_tokenizer = transformers.GPT2Tokenizer.from_pretrained(\"gpt2-xl\")\n",
    "whole_embedding = torch.load(\"embeddings/gpt2-xl_whole.pt\", map_location=\"cpu\")\n",
    "summary_embedding = torch.load(\"embeddings/gpt2_xl.pt\", map_location=\"cpu\")"
   ]
  },
  {
   "cell_type": "code",
   "execution_count": 4,
   "metadata": {},
   "outputs": [],
   "source": [
    "gpt2_xl_whole = ModelWrapper(\n",
    "        model=gpt2_xl,\n",
    "        tokenizer=gpt2_xl_tokenizer,\n",
    "        bible=bible,\n",
    "        embedding=whole_embedding,\n",
    "        name=\"gpt2_xl_whole\",\n",
    "        device=device,\n",
    "    )\n",
    "\n",
    "gpt2_xl_summary = ModelWrapper(\n",
    "        model=gpt2_xl,\n",
    "        tokenizer=gpt2_xl_tokenizer,\n",
    "        bible=bible,\n",
    "        embedding=summary_embedding,\n",
    "        name=\"gpt2_xl_whole\",\n",
    "        device=device,\n",
    "    )"
   ]
  },
  {
   "cell_type": "code",
   "execution_count": 6,
   "metadata": {},
   "outputs": [],
   "source": [
    "sent1 = \"Moses escapes from Egypt with his people crossing the red sea\"\n",
    "sent2 = \"God created the world in 6 days\"\n",
    "sent3 = \"Jesus is born in Bethlehem\"\n",
    "sent4 = \"Jesus is crucified on the cross\"\n",
    "sent5 = \"Jesus is resurrected from the dead\"\n",
    "sent6 = \"David defeats Goliath with a slingshot\"\n",
    "sent7 = \"God tests Abraham's faith by asking him to sacrifice his son\""
   ]
  },
  {
   "cell_type": "code",
   "execution_count": 19,
   "metadata": {},
   "outputs": [
    {
     "name": "stdout",
     "output_type": "stream",
     "text": [
      "['John 19', 'John 18', 'John 11', 'John 1', 'John 21']\n"
     ]
    }
   ],
   "source": [
    "pprint(gpt2_xl_whole.get_related_n_chapters(sent4, 5, with_text=False))"
   ]
  },
  {
   "cell_type": "code",
   "execution_count": 23,
   "metadata": {},
   "outputs": [
    {
     "data": {
      "text/plain": [
       "0.14"
      ]
     },
     "execution_count": 23,
     "metadata": {},
     "output_type": "execute_result"
    }
   ],
   "source": [
    "gpt2_xl_whole.get_top_n_acc(top_50, 5)"
   ]
  },
  {
   "cell_type": "code",
   "execution_count": 20,
   "metadata": {},
   "outputs": [
    {
     "name": "stdout",
     "output_type": "stream",
     "text": [
      "['Matthew 27', 'Mark 15', 'John 19', 'Luke 23', 'John 5']\n"
     ]
    }
   ],
   "source": [
    "pprint(gpt2_xl_summary.get_related_n_chapters(sent4, 5, with_text=False))"
   ]
  },
  {
   "cell_type": "code",
   "execution_count": 25,
   "metadata": {},
   "outputs": [
    {
     "data": {
      "text/plain": [
       "0.52"
      ]
     },
     "execution_count": 25,
     "metadata": {},
     "output_type": "execute_result"
    }
   ],
   "source": [
    "gpt2_xl_summary.get_top_n_acc(top_50, 5)"
   ]
  }
 ],
 "metadata": {
  "kernelspec": {
   "display_name": "Python 3",
   "language": "python",
   "name": "python3"
  },
  "language_info": {
   "codemirror_mode": {
    "name": "ipython",
    "version": 3
   },
   "file_extension": ".py",
   "mimetype": "text/x-python",
   "name": "python",
   "nbconvert_exporter": "python",
   "pygments_lexer": "ipython3",
   "version": "3.9.16"
  },
  "orig_nbformat": 4
 },
 "nbformat": 4,
 "nbformat_minor": 2
}
